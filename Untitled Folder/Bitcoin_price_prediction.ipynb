{
 "cells": [
  {
   "cell_type": "code",
   "execution_count": 1,
   "id": "eb3f6aea",
   "metadata": {},
   "outputs": [
    {
     "data": {
      "text/html": [
       "<div>\n",
       "<style scoped>\n",
       "    .dataframe tbody tr th:only-of-type {\n",
       "        vertical-align: middle;\n",
       "    }\n",
       "\n",
       "    .dataframe tbody tr th {\n",
       "        vertical-align: top;\n",
       "    }\n",
       "\n",
       "    .dataframe thead th {\n",
       "        text-align: right;\n",
       "    }\n",
       "</style>\n",
       "<table border=\"1\" class=\"dataframe\">\n",
       "  <thead>\n",
       "    <tr style=\"text-align: right;\">\n",
       "      <th></th>\n",
       "      <th>Date</th>\n",
       "      <th>Price</th>\n",
       "    </tr>\n",
       "  </thead>\n",
       "  <tbody>\n",
       "    <tr>\n",
       "      <th>0</th>\n",
       "      <td>5/23/2019</td>\n",
       "      <td>7881.846680</td>\n",
       "    </tr>\n",
       "    <tr>\n",
       "      <th>1</th>\n",
       "      <td>5/24/2019</td>\n",
       "      <td>7987.371582</td>\n",
       "    </tr>\n",
       "    <tr>\n",
       "      <th>2</th>\n",
       "      <td>5/25/2019</td>\n",
       "      <td>8052.543945</td>\n",
       "    </tr>\n",
       "    <tr>\n",
       "      <th>3</th>\n",
       "      <td>5/26/2019</td>\n",
       "      <td>8673.215820</td>\n",
       "    </tr>\n",
       "    <tr>\n",
       "      <th>4</th>\n",
       "      <td>5/27/2019</td>\n",
       "      <td>8805.778320</td>\n",
       "    </tr>\n",
       "  </tbody>\n",
       "</table>\n",
       "</div>"
      ],
      "text/plain": [
       "        Date        Price\n",
       "0  5/23/2019  7881.846680\n",
       "1  5/24/2019  7987.371582\n",
       "2  5/25/2019  8052.543945\n",
       "3  5/26/2019  8673.215820\n",
       "4  5/27/2019  8805.778320"
      ]
     },
     "execution_count": 1,
     "metadata": {},
     "output_type": "execute_result"
    }
   ],
   "source": [
    "import numpy as np\n",
    "import pandas as pd\n",
    "df = pd.read_csv(\"bitcoin.csv\")\n",
    "df.head()"
   ]
  },
  {
   "cell_type": "markdown",
   "id": "8c16f39e",
   "metadata": {},
   "source": [
    "Remove the date column"
   ]
  },
  {
   "cell_type": "code",
   "execution_count": null,
   "id": "0c080e3a",
   "metadata": {},
   "outputs": [],
   "source": [
    "df.drop(['Date'],1,inplace=True)"
   ]
  },
  {
   "cell_type": "markdown",
   "id": "bbf8384e",
   "metadata": {},
   "source": [
    "Now lets create a variable to predict ‘n’ days out there in the future"
   ]
  },
  {
   "cell_type": "code",
   "execution_count": null,
   "id": "bc32d437",
   "metadata": {},
   "outputs": [],
   "source": [
    "predictionDays = 30\n",
    "# Create another column shifted 'n'  units up\n",
    "df['Prediction'] = df[['Price']].shift(-predictionDays)\n",
    "# show the first 5 rows\n",
    "df.head()"
   ]
  },
  {
   "cell_type": "code",
   "execution_count": null,
   "id": "9cbc82a9",
   "metadata": {},
   "outputs": [],
   "source": [
    "df.tail()"
   ]
  },
  {
   "cell_type": "code",
   "execution_count": null,
   "id": "e7b37174",
   "metadata": {},
   "outputs": [],
   "source": [
    "# Create the independent dada set\n",
    "# Here we will convert the data frame into a numpy array and drp the prediction column\n",
    "x = np.array(df.drop(['Prediction'],1))\n",
    "# Remove the last 'n' rows where 'n' is the predictionDays\n",
    "x = x[:len(df)-predictionDays]\n",
    "print(x)"
   ]
  },
  {
   "cell_type": "code",
   "execution_count": null,
   "id": "68e2cc16",
   "metadata": {},
   "outputs": [],
   "source": [
    "# Create the dependent data set\n",
    "# convert the data frame into a numpy array\n",
    "y = np.array(df['Prediction'])\n",
    "# Get all the values except last 'n' rows\n",
    "y = y[:-predictionDays]\n",
    "print(y)"
   ]
  },
  {
   "cell_type": "code",
   "execution_count": null,
   "id": "e16b40d7",
   "metadata": {},
   "outputs": [],
   "source": [
    "# Split the data into 80% training and 20% testing\n",
    "from sklearn.model_selection import train_test_split\n",
    "xtrain, xtest, ytrain, ytest = train_test_split(x,y, test_size = 0.2)\n",
    "# set the predictionDays array equal to last 30 rows from the original data set\n",
    "predictionDays_array = np.array(df.drop(['Prediction'],1))[-predictionDays:]\n",
    "print(predictionDays_array)"
   ]
  },
  {
   "cell_type": "markdown",
   "id": "41d2b6e1",
   "metadata": {},
   "source": [
    "Now we will create a Machine Learning Model"
   ]
  },
  {
   "cell_type": "code",
   "execution_count": null,
   "id": "e742ae59",
   "metadata": {},
   "outputs": [],
   "source": [
    "from sklearn.svm import SVR\n",
    "# Create and Train the Support Vector Machine (Regression) using radial basis function\n",
    "svr_rbf = SVR(kernel='rbf', C=1e3, gamma=0.00001)\n",
    "svr_rbf.fit(xtrain, ytrain)"
   ]
  },
  {
   "cell_type": "markdown",
   "id": "82cfa068",
   "metadata": {},
   "source": [
    "Test the model"
   ]
  },
  {
   "cell_type": "code",
   "execution_count": null,
   "id": "8bae6c67",
   "metadata": {},
   "outputs": [],
   "source": [
    "svr_rbf_confidence = svr_rbf.score(xtest,ytest)\n",
    "print('SVR_RBF accuracy :',svr_rbf_confidence)"
   ]
  },
  {
   "cell_type": "code",
   "execution_count": null,
   "id": "4a282a4f",
   "metadata": {},
   "outputs": [],
   "source": [
    "# print the predicted values\n",
    "svm_prediction = svr_rbf.predict(xtest)\n",
    "print(svm_prediction)\n",
    "print()\n",
    "print(ytest)"
   ]
  },
  {
   "cell_type": "code",
   "execution_count": null,
   "id": "4c301898",
   "metadata": {},
   "outputs": [],
   "source": [
    "# Print the model predictions for the next 30 days\n",
    "svm_prediction = svr_rbf.predict(predictionDays_array)\n",
    "print(svm_prediction)\n",
    "print()\n",
    "#Print the actual price for bitcoin for last 30 days\n",
    "print(df.tail(predictionDays))"
   ]
  },
  {
   "cell_type": "code",
   "execution_count": null,
   "id": "1e788be8",
   "metadata": {},
   "outputs": [],
   "source": []
  },
  {
   "cell_type": "code",
   "execution_count": null,
   "id": "d76852cc",
   "metadata": {},
   "outputs": [],
   "source": []
  },
  {
   "cell_type": "code",
   "execution_count": null,
   "id": "3fb00928",
   "metadata": {},
   "outputs": [],
   "source": []
  },
  {
   "cell_type": "code",
   "execution_count": null,
   "id": "b270a319",
   "metadata": {},
   "outputs": [],
   "source": []
  },
  {
   "cell_type": "code",
   "execution_count": null,
   "id": "4e9e3bf9",
   "metadata": {},
   "outputs": [],
   "source": []
  }
 ],
 "metadata": {
  "kernelspec": {
   "display_name": "Python 3 (ipykernel)",
   "language": "python",
   "name": "python3"
  },
  "language_info": {
   "codemirror_mode": {
    "name": "ipython",
    "version": 3
   },
   "file_extension": ".py",
   "mimetype": "text/x-python",
   "name": "python",
   "nbconvert_exporter": "python",
   "pygments_lexer": "ipython3",
   "version": "3.9.13"
  }
 },
 "nbformat": 4,
 "nbformat_minor": 5
}
